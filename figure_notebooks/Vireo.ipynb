{
 "cells": [
  {
   "cell_type": "code",
   "execution_count": 2,
   "id": "a9a40a12-286e-4c78-b5b1-880be76b24a2",
   "metadata": {},
   "outputs": [
    {
     "name": "stderr",
     "output_type": "stream",
     "text": [
      "/home/vmarotl/anaconda3/envs/passenger/lib/python3.10/site-packages/scipy/__init__.py:146: UserWarning: A NumPy version >=1.17.3 and <1.25.0 is required for this version of SciPy (detected version 1.25.0\n",
      "  warnings.warn(f\"A NumPy version >={np_minversion} and <{np_maxversion}\"\n"
     ]
    }
   ],
   "source": [
    "import pandas as pd\n",
    "import numpy as np\n",
    "import matplotlib.pyplot as plt\n",
    "import matplotlib\n",
    "import os\n",
    "import seaborn as sns\n",
    "import anndata\n",
    "from vireoSNP import BinomMixtureVB\n",
    "import sklearn.metrics\n",
    "from scipy.stats import binom\n",
    "\n",
    "\n",
    "\n",
    "plt.rcParams['pdf.fonttype'] = 42 #for saving PDF with changeable text\n",
    "plt.rcParams['ps.fonttype'] = 42 #for saving PDF with changeable text\n",
    "\n",
    "# my code\n",
    "%load_ext autoreload\n",
    "%autoreload 2\n",
    "from passenger.plot.plot import *\n"
   ]
  },
  {
   "cell_type": "code",
   "execution_count": 3,
   "id": "d9c6842b-e83c-4ff9-9202-f15fb6096aed",
   "metadata": {},
   "outputs": [],
   "source": [
    "AML_S2_patients = np.array([\"P\"+str(i) for i in np.arange(1, 5)])\n",
    "AML_10X_patients = np.array([\"A\"+str(i) for i in np.arange(1, 16)])\n",
    "LUNG_patients = [\"p018\", \"p019\", \"p023\", \"p030\", \"p031\",\"p032\", \"p033\"]\n",
    "CRC_patient = [\"p007\", \"p013\", \"p014\", \"p016\", \"p020\", \"p026\"]"
   ]
  },
  {
   "cell_type": "code",
   "execution_count": 4,
   "id": "33f60dbb-f972-49b1-8f02-8aa1d91f46c2",
   "metadata": {},
   "outputs": [
    {
     "name": "stdout",
     "output_type": "stream",
     "text": [
      "P1\n",
      "P2\n",
      "P3\n",
      "P4\n"
     ]
    }
   ],
   "source": [
    "AML_S2_adata = []\n",
    "\n",
    "Cdiff_sub_cells = .3\n",
    "\n",
    "for patient in AML_S2_patients:\n",
    "    print(patient)\n",
    "    \n",
    "    file = \"/home/vmarotl/fast/mutaseq/scripts/clonal_tracing_notebooks/processed_data/AML_MutaSeq/\"+patient+\".h5ad\"\n",
    "    \n",
    "    adata = anndata.read_h5ad(file)\n",
    "\n",
    "    if \"vireo_ID_prob\" not in adata.obsm.keys():\n",
    "        AD = adata.layers[\"ALT\"].T\n",
    "        DP = adata.X.T\n",
    "\n",
    "        _model = BinomMixtureVB(n_var=AD.shape[0], n_cell=AD.shape[1], n_donor=2)\n",
    "        _model.fit(AD, DP)\n",
    "\n",
    "        uq, blast_counts = np.unique(np.argmax(_model.ID_prob[np.array(adata.obs[\"cell_labels\"]=='cancer')], axis=1), return_counts=True)\n",
    "\n",
    "        print(uq, blast_counts, np.argmax(blast_counts))\n",
    "\n",
    "        idx = [0, 1] if np.argmax(blast_counts)==0 else [1, 0]\n",
    "        adata.obsm[\"vireo_ID_prob\"] = _model.ID_prob[:,idx]\n",
    "        adata.varm[\"vireo_var_prob\"]=_model.beta_mu[:,idx]\n",
    "    \n",
    "    adata.write_h5ad(file)\n",
    "    AML_S2_adata.append(adata)"
   ]
  },
  {
   "cell_type": "code",
   "execution_count": 5,
   "id": "a2d44c8c-3f27-4bbc-84b5-8e78e0e2ff0f",
   "metadata": {},
   "outputs": [
    {
     "name": "stdout",
     "output_type": "stream",
     "text": [
      "A1\n",
      "A2\n",
      "A3\n",
      "A4\n",
      "A5\n",
      "A6\n",
      "A7\n",
      "A8\n",
      "A9\n",
      "A10\n",
      "A11\n",
      "A12\n",
      "A13\n",
      "A14\n",
      "A15\n"
     ]
    }
   ],
   "source": [
    "AML_10X_adata = []\n",
    "healthy_cells = ['B cells', 'T cells', 'NK cells']\n",
    "\n",
    "for patient in AML_10X_patients:\n",
    "    print(patient)\n",
    "    \n",
    "    file = \"/home/vmarotl/fast/mutaseq/scripts/clonal_tracing_notebooks/processed_data/AML_10X/\"+patient+\".h5ad\"\n",
    "    \n",
    "    adata = anndata.read_h5ad(file)\n",
    "    \n",
    "    if (\"cell_labels\" not in adata.obs.keys()) | ('ref_assignments' not in adata.obsm.keys()):\n",
    "        AML_10X_adata.append(None)\n",
    "        continue\n",
    "\n",
    "    if \"vireo_ID_prob\" not in adata.obsm.keys():\n",
    "        AD = adata.layers[\"ALT\"].T\n",
    "        DP = adata.X.T\n",
    "\n",
    "        _model = BinomMixtureVB(n_var=AD.shape[0], n_cell=AD.shape[1], n_donor=2)\n",
    "        _model.fit(AD, DP)\n",
    "    \n",
    "        uq, blast_counts = np.unique(np.argmax(_model.ID_prob[[i in healthy_cells for i in adata.obs[\"celltype\"]]], axis=1), return_counts=True)\n",
    "\n",
    "        print(uq, blast_counts, np.argmax(blast_counts))\n",
    "\n",
    "        idx = [0, 1] if np.argmax(blast_counts)==1 else [1, 0]\n",
    "        adata.obsm[\"vireo_ID_prob\"] = _model.ID_prob[:,idx]\n",
    "        adata.varm[\"vireo_var_prob\"]=_model.beta_mu[:,idx]\n",
    "    \n",
    "    adata.write_h5ad(file)\n",
    "    AML_10X_adata.append(adata)"
   ]
  },
  {
   "cell_type": "code",
   "execution_count": 6,
   "id": "3fccbf9c-cfec-49ad-a9c2-95c9d5ebbc37",
   "metadata": {},
   "outputs": [
    {
     "name": "stdout",
     "output_type": "stream",
     "text": [
      "p018\n",
      "p019\n",
      "p023\n",
      "p030\n",
      "p031\n",
      "p032\n",
      "p033\n"
     ]
    }
   ],
   "source": [
    "LUNG_adata = []\n",
    "\n",
    "for patient in LUNG_patients:\n",
    "    print(patient)\n",
    "    \n",
    "    file = \"/home/vmarotl/fast/mutaseq/scripts/clonal_tracing_notebooks/processed_data/LUNG/\"+patient+\".h5ad\"\n",
    "    \n",
    "    adata = anndata.read_h5ad(file)\n",
    "    \n",
    "    if (\"cell_labels\" not in adata.obs.keys()) | ('ref_assignments' not in adata.obsm.keys()):\n",
    "        LUNG_adata.append(None)\n",
    "        continue\n",
    "\n",
    "    if \"vireo_ID_prob\" not in adata.obsm.keys():\n",
    "        AD = adata.layers[\"ALT\"].T\n",
    "        DP = adata.X.T\n",
    "\n",
    "        _model = BinomMixtureVB(n_var=AD.shape[0], n_cell=AD.shape[1], n_donor=2)\n",
    "        _model.fit(AD, DP)        \n",
    "    \n",
    "        uq, blast_counts = np.unique(np.argmax(_model.ID_prob[np.array( adata.obs[\"celltype\"]==\"Tumor\")], axis=1), return_counts=True)\n",
    "\n",
    "        print(uq, blast_counts, np.argmax(blast_counts))\n",
    "\n",
    "        idx = [0, 1] if np.argmax(blast_counts)==0 else [1, 0]\n",
    "        adata.obsm[\"vireo_ID_prob\"] = _model.ID_prob[:,idx]\n",
    "        adata.varm[\"vireo_var_prob\"]= _model.beta_mu[:,idx]\n",
    "    \n",
    "    \n",
    "    adata.write_h5ad(file)\n",
    "    LUNG_adata.append(adata)"
   ]
  },
  {
   "cell_type": "code",
   "execution_count": 7,
   "id": "cfc3e92a-8da0-4dee-a979-4762f223fee2",
   "metadata": {},
   "outputs": [
    {
     "name": "stdout",
     "output_type": "stream",
     "text": [
      "p007\n",
      "p013\n",
      "p014\n",
      "p016\n",
      "p020\n",
      "p026\n"
     ]
    }
   ],
   "source": [
    "CRC_adata = []\n",
    "\n",
    "for patient in CRC_patient:\n",
    "    print(patient)\n",
    "    \n",
    "    file = \"/home/vmarotl/fast/mutaseq/scripts/clonal_tracing_notebooks/processed_data/CRC/\"+patient+\".h5ad\"\n",
    "    \n",
    "    adata = anndata.read_h5ad(file)\n",
    "    \n",
    "    if (\"cell_labels\" not in adata.obs.keys()) | ('ref_assignments' not in adata.obsm.keys()):\n",
    "        CRC_adata.append(None)\n",
    "        continue\n",
    "\n",
    "    if \"vireo_ID_prob\" not in adata.obsm.keys():\n",
    "        AD = adata.layers[\"ALT\"].T\n",
    "        DP = adata.X.T\n",
    "\n",
    "        _model = BinomMixtureVB(n_var=AD.shape[0], n_cell=AD.shape[1], n_donor=2)\n",
    "        _model.fit(AD, DP)        \n",
    "    \n",
    "        uq, blast_counts = np.unique(np.argmax(_model.ID_prob[np.array( adata.obs[\"celltype\"]==\"Tumour\")], axis=1), return_counts=True)\n",
    "\n",
    "        print(uq, blast_counts, np.argmax(blast_counts))\n",
    "\n",
    "        idx = [0, 1] if np.argmax(blast_counts)==0 else [1, 0]\n",
    "        adata.obsm[\"vireo_ID_prob\"] = _model.ID_prob[:,idx]\n",
    "        adata.varm[\"vireo_var_prob\"]= _model.beta_mu[:,idx]\n",
    "    \n",
    "    \n",
    "    adata.write_h5ad(file)\n",
    "    CRC_adata.append(adata)"
   ]
  },
  {
   "cell_type": "code",
   "execution_count": 8,
   "id": "1936bc30-93c7-49da-9555-5b586f50a58b",
   "metadata": {},
   "outputs": [
    {
     "data": {
      "image/png": "[encoded data removed]",
      "text/plain": [
       "<Figure size 400x400 with 1 Axes>"
      ]
     },
     "metadata": {},
     "output_type": "display_data"
    }
   ],
   "source": [
    "fig, ax = plt.subplots(1,1,figsize=(4,4))\n",
    "for i, adata in enumerate(AML_S2_adata):\n",
    "\n",
    "    sub = (adata.obs.cell_labels != \"undetermined\").tolist()\n",
    "    adata = adata[sub]\n",
    "    our_cancer = np.array(adata.obs.cell_labels == \"cancer\")\n",
    "    viero_cancer = np.array(adata.obsm[\"vireo_ID_prob\"][:,0] > .5)\n",
    "\n",
    "    ref_cancer = np.array(adata.obsm[\"ref_assignments\"][\"PhiSICShealthy\"]<0.5 if i<2 else adata.obsm[\"ref_assignments\"][\"cancer_final\"])\n",
    "    sub = ~np.isnan(ref_cancer)\n",
    "    \n",
    "    f1 = sklearn.metrics.f1_score(ref_cancer[sub], our_cancer[sub])\n",
    "    vireo_f1 = sklearn.metrics.f1_score(ref_cancer[sub], viero_cancer[sub])\n",
    "\n",
    "    ax.scatter(f1, vireo_f1, marker=\"o\", s=10, c=\"darkviolet\")\n",
    "    ax.annotate(AML_S2_patients[i], (f1, vireo_f1))\n",
    "    \n",
    "\n",
    "for i, adata in enumerate(AML_10X_adata):\n",
    "    if adata is None:\n",
    "        continue\n",
    "\n",
    "    sub = (adata.obs.cell_labels != \"undetermined\").tolist()\n",
    "    adata = adata[sub]\n",
    "    our_cancer = np.array(adata.obs.cell_labels == \"cancer\")\n",
    "    viero_cancer = np.array(adata.obsm[\"vireo_ID_prob\"][:,0] > .5)\n",
    "\n",
    "    ref_cancer = np.array(adata.obsm[\"ref_assignments\"][\"Healthy\"]<0.5) #if i<2 else adata.obsm[\"ref_assignments\"][\"cancer_final\"])\n",
    "    sub = ~np.isnan(ref_cancer)\n",
    "    \n",
    "    f1 = sklearn.metrics.f1_score(ref_cancer[sub], our_cancer[sub])\n",
    "    vireo_f1 = sklearn.metrics.f1_score(ref_cancer[sub], viero_cancer[sub])\n",
    "\n",
    "    ax.scatter(f1, vireo_f1, marker=\"o\", s=10, c=\"forestgreen\")\n",
    "    ax.annotate(AML_10X_patients[i], (f1, vireo_f1))\n",
    "    \n",
    "    \n",
    "for i, adata in enumerate(LUNG_adata):\n",
    "    if adata is None:\n",
    "        continue\n",
    "\n",
    "    sub = (adata.obs.cell_labels != \"undetermined\").tolist()\n",
    "    adata = adata[sub]\n",
    "    our_cancer = np.array(adata.obs.cell_labels == \"cancer\")\n",
    "    viero_cancer = np.array(adata.obsm[\"vireo_ID_prob\"][:,0] > .5)\n",
    "\n",
    "    ref_cancer = np.array(adata.obsm[\"ref_assignments\"][\"cna_clone\"]==\"CNA\") \n",
    "    sub = ~np.isnan(ref_cancer)\n",
    "    \n",
    "    f1 = sklearn.metrics.f1_score(ref_cancer[sub], our_cancer[sub])\n",
    "    vireo_f1 = sklearn.metrics.f1_score(ref_cancer[sub], viero_cancer[sub])\n",
    "\n",
    "    ax.scatter(f1, vireo_f1, marker=\"*\", s=10, c=\"gold\")\n",
    "    ax.annotate(LUNG_patients[i], (f1, vireo_f1))\n",
    "    \n",
    "for i, adata in enumerate(CRC_adata):\n",
    "    if adata is None:\n",
    "        continue\n",
    "\n",
    "    sub = (adata.obs.cell_labels != \"undetermined\").tolist()\n",
    "    adata = adata[sub]\n",
    "    our_cancer = np.array(adata.obs.cell_labels == \"cancer\")\n",
    "    viero_cancer = np.array(adata.obsm[\"vireo_ID_prob\"][:,0] > .5)\n",
    "\n",
    "    ref_cancer = np.array(adata.obsm[\"ref_assignments\"][\"consensus_call\"]==\"genomically_tumour\") \n",
    "    sub = ~np.isnan(ref_cancer)\n",
    "    f1 = sklearn.metrics.f1_score(ref_cancer[sub], our_cancer[sub])\n",
    "    vireo_f1 = sklearn.metrics.f1_score(ref_cancer[sub], viero_cancer[sub])\n",
    "\n",
    "    ax.scatter(f1, vireo_f1, marker=\">\", s=10, c=\"dodgerblue\")\n",
    "    ax.annotate(CRC_patient[i], (f1, vireo_f1))\n",
    "    \n",
    "ax.set_xlim(0, 1), ax.set_ylim(0, 1)\n",
    "ax.plot([0, 1], [0, 1], linewidth=1, color=\"grey\", linestyle=':' )\n",
    "    \n",
    "ax.set_xlabel(\"F1-score CCLONE\")\n",
    "ax.set_ylabel(\"F1-score vireo\")\n",
    "\n",
    "plt.savefig(\"../figures/SXX_vireo.png\", dpi=300)"
   ]
  },
  {
   "cell_type": "code",
   "execution_count": null,
   "id": "6e9aa3a1-02d9-4ae3-9299-10ac9738d382",
   "metadata": {},
   "outputs": [],
   "source": []
  }
 ],
 "metadata": {
  "kernelspec": {
   "display_name": "passenger",
   "language": "python",
   "name": "passenger"
  },
  "language_info": {
   "codemirror_mode": {
    "name": "ipython",
    "version": 3
   },
   "file_extension": ".py",
   "mimetype": "text/x-python",
   "name": "python",
   "nbconvert_exporter": "python",
   "pygments_lexer": "ipython3",
   "version": "3.10.9"
  }
 },
 "nbformat": 4,
 "nbformat_minor": 5
}
