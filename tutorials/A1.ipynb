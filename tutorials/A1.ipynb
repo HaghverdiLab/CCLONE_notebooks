{
 "cells": [
  {
   "cell_type": "markdown",
   "id": "29bf9888-9f0c-4076-90bb-2ee5f322263f",
   "metadata": {},
   "source": [
    "# Tutorial Patient A1 - detailled\n",
    "\n",
    "This tutorial provides a detailled overview of every step of the analysis pipeline for one patient. We highlight the filtering step, as well as the result selection and evaluation.\n",
    "\n",
    "The patient analysed in this notebook in patient A1 from the following publication: \n",
    "[S. Beneyto-Calabuig, et al. (2023) Clonally resolved single-cell multi-omics identifies routes of cellular differentiation in acute myeloid leukemia](https://doi.org/10.1016/j.stem.2023.04.001)\n",
    "\n",
    "The tutorial starts with the unfiltered anndata object. To do variant calling with cellSNP-lite, and create this object from an input BAM file, please follow the steps outlined in \"(1) Preprocessing\" in the ../scripts directory."
   ]
  },
  {
   "cell_type": "code",
   "execution_count": 2,
   "id": "a8d6b725-2fc1-417d-995e-993852cb3786",
   "metadata": {},
   "outputs": [],
   "source": [
    "import numpy as np\n",
    "import pandas as pd\n",
    "import matplotlib.pyplot as plt"
   ]
  },
  {
   "cell_type": "code",
   "execution_count": 3,
   "id": "c078b84b-1604-49c5-bd5c-c1cacf16db62",
   "metadata": {},
   "outputs": [
    {
     "data": {
      "text/plain": [
       "AnnData object with n_obs × n_vars = 4160 × 2002\n",
       "    var: 'chr', 'pos', 'ref', 'mut', 'REDIdb', 'dbSNP', 'gene'\n",
       "    layers: 'ALT', 'REF'"
      ]
     },
     "execution_count": 3,
     "metadata": {},
     "output_type": "execute_result"
    }
   ],
   "source": [
    "import anndata\n",
    "\n",
    "adata=anndata.read_h5ad(\"A1/adata.h5ad\")\n",
    "adata"
   ]
  },
  {
   "cell_type": "markdown",
   "id": "14c065b1-6c74-47c6-b4a7-7c28e0d7e646",
   "metadata": {},
   "source": [
    "## I. Variant filtering\n",
    "\n",
    "The unfiltered adata object contains 2002 variants. As we use no prior knownledge in variant calling, we expect most variants in that set to be of non-somatic origin, i.e. germline variants or errors. \n",
    "\n",
    "#### Low frequency variants\n",
    "\n",
    "We would like to filter this set of variants to try and keep mostly variants allowng us to recognise the healhty and cancer populations. As we use co-occuring sets of variants to that effect, variants that are seen accross all cells, or in almost no cells are not informative. So we can have a look at the frequency of the rarest allele:"
   ]
  },
  {
   "cell_type": "code",
   "execution_count": 4,
   "id": "bfca9de5-e62c-4205-ac5f-53a0b0e1b6f1",
   "metadata": {},
   "outputs": [
    {
     "data": {
      "image/png": "[encoded data removed]",
      "text/plain": [
       "<Figure size 500x400 with 1 Axes>"
      ]
     },
     "metadata": {},
     "output_type": "display_data"
    }
   ],
   "source": [
    "REF, ALT = adata.layers[\"REF\"].A, adata.layers[\"ALT\"].A\n",
    "cov = REF + ALT\n",
    "only_REF_cells = np.sum((REF > 1) & (ALT == 0), axis=0) # cells with only ref reads\n",
    "only_ALT_cells = np.sum((REF == 0) & (ALT > 1), axis=0) # cells with only alt reads\n",
    "ALT_cells = np.sum((ALT>1), axis=0) # number of heterozygous cells\n",
    "REF_cells = np.sum((REF>1), axis=0) # number of heterozygous cells\n",
    "\n",
    "min_MAF = np.nanmax((np.nanmin((only_REF_cells, ALT_cells), axis=0),\n",
    "                     np.nanmin((only_ALT_cells, REF_cells), axis=0)),\n",
    "                     axis=0)\n",
    "\n",
    "plt.subplots(1,1,figsize=(5, 4))\n",
    "plt.hist(min_MAF/adata.shape[0], bins=100)\n",
    "plt.axvline(.1, color=\"red\", linestyle =\":\")\n",
    "plt.axvline(.05, color=\"red\", linestyle =\":\")\n",
    "plt.axvline(.02, color=\"red\", linestyle =\":\")\n",
    "plt.title(\"Minor frequency of rare allele pair.\")\n",
    "plt.show()"
   ]
  },
  {
   "cell_type": "markdown",
   "id": "add72369-c1db-43ea-a376-e6d2f877cb94",
   "metadata": {},
   "source": [
    "Variants found in very few cells are not really informative, and can add noise making the identification of clones more difficult. However it can be difficult to decide how few is too few. Especially as we do not know the clonal population size. Clearly, the peak very close to 0 needs to be excluded. But beyond that? is 2% too small? 5%? Do we exclude too many informative variants at 10%?\n",
    "\n",
    "In this work we found that different thresholds worked best for different samples. Because of this, we simply try all 3 thresholds and later select the most informative set.\n",
    "\n",
    "\n",
    "#### Germline variants\n",
    "\n",
    "In theory, germline variants found accross cells are also not informative. Because of this in preprocessing (not included in this notebook), we used vep to identify and annotate all our variants that are also found in the common variant set of dbSNP (found in at >=1% frequency in at least one major population.\n",
    "\n",
    "This information can be found in the adata.var[\"dbSNP\"] columns (note: the position and allele columns where blanked out for data protection purposes):"
   ]
  },
  {
   "cell_type": "code",
   "execution_count": 5,
   "id": "76accb65-3cd0-4587-95b6-df70f1626698",
   "metadata": {},
   "outputs": [
    {
     "data": {
      "text/html": [
       "<div>\n",
       "<style scoped>\n",
       "    .dataframe tbody tr th:only-of-type {\n",
       "        vertical-align: middle;\n",
       "    }\n",
       "\n",
       "    .dataframe tbody tr th {\n",
       "        vertical-align: top;\n",
       "    }\n",
       "\n",
       "    .dataframe thead th {\n",
       "        text-align: right;\n",
       "    }\n",
       "</style>\n",
       "<table border=\"1\" class=\"dataframe\">\n",
       "  <thead>\n",
       "    <tr style=\"text-align: right;\">\n",
       "      <th></th>\n",
       "      <th>chr</th>\n",
       "      <th>pos</th>\n",
       "      <th>ref</th>\n",
       "      <th>mut</th>\n",
       "      <th>REDIdb</th>\n",
       "      <th>dbSNP</th>\n",
       "      <th>gene</th>\n",
       "    </tr>\n",
       "  </thead>\n",
       "  <tbody>\n",
       "    <tr>\n",
       "      <th>0</th>\n",
       "      <td>chr1</td>\n",
       "      <td></td>\n",
       "      <td></td>\n",
       "      <td></td>\n",
       "      <td>False</td>\n",
       "      <td>True</td>\n",
       "      <td>ENSG00000067606:downstream_gene_variant,ENSG00...</td>\n",
       "    </tr>\n",
       "    <tr>\n",
       "      <th>1</th>\n",
       "      <td>chr1</td>\n",
       "      <td></td>\n",
       "      <td></td>\n",
       "      <td></td>\n",
       "      <td>False</td>\n",
       "      <td>False</td>\n",
       "      <td>ENSG00000116251:3_prime_UTR_variant,ENSG000001...</td>\n",
       "    </tr>\n",
       "    <tr>\n",
       "      <th>2</th>\n",
       "      <td>chr1</td>\n",
       "      <td></td>\n",
       "      <td></td>\n",
       "      <td></td>\n",
       "      <td>False</td>\n",
       "      <td>False</td>\n",
       "      <td>ENSG00000116251:5_prime_UTR_variant,ENSG000001...</td>\n",
       "    </tr>\n",
       "    <tr>\n",
       "      <th>3</th>\n",
       "      <td>chr1</td>\n",
       "      <td></td>\n",
       "      <td></td>\n",
       "      <td></td>\n",
       "      <td>False</td>\n",
       "      <td>False</td>\n",
       "      <td>ENSG00000074800:3_prime_UTR_variant,NMD_transc...</td>\n",
       "    </tr>\n",
       "    <tr>\n",
       "      <th>4</th>\n",
       "      <td>chr1</td>\n",
       "      <td></td>\n",
       "      <td></td>\n",
       "      <td></td>\n",
       "      <td>False</td>\n",
       "      <td>True</td>\n",
       "      <td>ENSG00000077549:3_prime_UTR_variant,ENSG000000...</td>\n",
       "    </tr>\n",
       "    <tr>\n",
       "      <th>...</th>\n",
       "      <td>...</td>\n",
       "      <td>...</td>\n",
       "      <td>...</td>\n",
       "      <td>...</td>\n",
       "      <td>...</td>\n",
       "      <td>...</td>\n",
       "      <td>...</td>\n",
       "    </tr>\n",
       "    <tr>\n",
       "      <th>2532</th>\n",
       "      <td>chr22</td>\n",
       "      <td></td>\n",
       "      <td></td>\n",
       "      <td></td>\n",
       "      <td>False</td>\n",
       "      <td>False</td>\n",
       "      <td>ENSG00000100216:3_prime_UTR_variant,ENSG000001...</td>\n",
       "    </tr>\n",
       "    <tr>\n",
       "      <th>2534</th>\n",
       "      <td>chr22</td>\n",
       "      <td></td>\n",
       "      <td></td>\n",
       "      <td></td>\n",
       "      <td>False</td>\n",
       "      <td>True</td>\n",
       "      <td>ENSG00000100226:downstream_gene_variant,ENSG00...</td>\n",
       "    </tr>\n",
       "    <tr>\n",
       "      <th>2538</th>\n",
       "      <td>chr22</td>\n",
       "      <td></td>\n",
       "      <td></td>\n",
       "      <td></td>\n",
       "      <td>False</td>\n",
       "      <td>True</td>\n",
       "      <td>ENSG00000177096:downstream_gene_variant,ENSG00...</td>\n",
       "    </tr>\n",
       "    <tr>\n",
       "      <th>2539</th>\n",
       "      <td>chr22</td>\n",
       "      <td></td>\n",
       "      <td></td>\n",
       "      <td></td>\n",
       "      <td>False</td>\n",
       "      <td>True</td>\n",
       "      <td>ENSG00000100300:downstream_gene_variant,ENSG00...</td>\n",
       "    </tr>\n",
       "    <tr>\n",
       "      <th>2540</th>\n",
       "      <td>chr22</td>\n",
       "      <td></td>\n",
       "      <td></td>\n",
       "      <td></td>\n",
       "      <td>False</td>\n",
       "      <td>False</td>\n",
       "      <td>ENSG00000100300:3_prime_UTR_variant,ENSG000001...</td>\n",
       "    </tr>\n",
       "  </tbody>\n",
       "</table>\n",
       "<p>2002 rows × 7 columns</p>\n",
       "</div>"
      ],
      "text/plain": [
       "        chr pos ref mut  REDIdb  dbSNP  \\\n",
       "0      chr1               False   True   \n",
       "1      chr1               False  False   \n",
       "2      chr1               False  False   \n",
       "3      chr1               False  False   \n",
       "4      chr1               False   True   \n",
       "...     ...  ..  ..  ..     ...    ...   \n",
       "2532  chr22               False  False   \n",
       "2534  chr22               False   True   \n",
       "2538  chr22               False   True   \n",
       "2539  chr22               False   True   \n",
       "2540  chr22               False  False   \n",
       "\n",
       "                                                   gene  \n",
       "0     ENSG00000067606:downstream_gene_variant,ENSG00...  \n",
       "1     ENSG00000116251:3_prime_UTR_variant,ENSG000001...  \n",
       "2     ENSG00000116251:5_prime_UTR_variant,ENSG000001...  \n",
       "3     ENSG00000074800:3_prime_UTR_variant,NMD_transc...  \n",
       "4     ENSG00000077549:3_prime_UTR_variant,ENSG000000...  \n",
       "...                                                 ...  \n",
       "2532  ENSG00000100216:3_prime_UTR_variant,ENSG000001...  \n",
       "2534  ENSG00000100226:downstream_gene_variant,ENSG00...  \n",
       "2538  ENSG00000177096:downstream_gene_variant,ENSG00...  \n",
       "2539  ENSG00000100300:downstream_gene_variant,ENSG00...  \n",
       "2540  ENSG00000100300:3_prime_UTR_variant,ENSG000001...  \n",
       "\n",
       "[2002 rows x 7 columns]"
      ]
     },
     "execution_count": 5,
     "metadata": {},
     "output_type": "execute_result"
    }
   ],
   "source": [
    "adata.var"
   ]
  },
  {
   "cell_type": "markdown",
   "id": "7c73862e-43e7-4a04-bfb8-36adc41299c9",
   "metadata": {},
   "source": [
    "We can also have a look at the frequency of these variants. If they are true germline variants, we expect them to be found at close to .5 VAF:"
   ]
  },
  {
   "cell_type": "code",
   "execution_count": 6,
   "id": "70047c0b-c817-42a8-bbcb-c50f8ce0412d",
   "metadata": {},
   "outputs": [
    {
     "data": {
      "image/png": "[encoded data removed]",
      "text/plain": [
       "<Figure size 500x400 with 1 Axes>"
      ]
     },
     "metadata": {},
     "output_type": "display_data"
    }
   ],
   "source": [
    "REF_cells = np.sum((REF > 0), axis=0) # cells with only ref reads\n",
    "ALT_cells = np.sum((ALT > 0), axis=0) # cells with only alt reads\n",
    "\n",
    "plt.subplots(1,1,figsize=(5, 4))\n",
    "c1=(ALT_cells/(REF_cells+ALT_cells))[adata.var.dbSNP]\n",
    "c2=(ALT_cells/(REF_cells+ALT_cells))[~adata.var.dbSNP]\n",
    "\n",
    "plt.hist(c1, bins=100, range=(0,1), alpha=.5, label=\"Common germline variants\", density=True)\n",
    "plt.hist(c2, bins=100, range=(0,1), alpha=.5, label=\"Not common germline variants\", density=True)\n",
    "plt.title(\"VAF of variants accross cells\\n(density normalised for ease of visualisation).\")\n",
    "plt.legend()\n",
    "plt.show()"
   ]
  },
  {
   "cell_type": "markdown",
   "id": "fe4c603c-f6f6-4186-a65f-6600d0e2226f",
   "metadata": {},
   "source": [
    "Compared to the varants not annotated in dbNSP, the VAF of these variants is indeed much closer to 0.5. However, we can see that this is not always the case. These variants with VAF very far of 0.5 could be due to noise, or perhaps they are not germline variants in our dataset. Or maybe they are germline variants and were disbalanced in one of the clone due to a LOH or a somatic variant in the regulatory region on one allele. In this last case they would be informative.\n",
    "\n",
    "Here too, it is not easy to decide whether to exclude or keep this set of variant. Because of this, we again try different threshold (with and without dbSNP-common variants) and later select the best result.\n",
    "\n",
    "#### Alternatives\n",
    "\n",
    "Alternatively, you can use different thresholds for your data. In particular, in the presence of prior knowledge, it can be used to help filter the variants. Some examples:\n",
    " - if there are known healthy and cancer (sub-)populations (in addition to the mixed populations), the variants exclusive to either populations can be kept as informative, and the other excluded. However, this could result in the exclusion of informative variants that are not sufficiently covered in any of these populations.\n",
    " - if you have a known somatic event in your data (or partial cancer cell labels) you could test for all variants whether they are significantly positively or negatively associated with this known pattern and only keep those for downstream analysis (through a chi2 test). Here too, this would only work if the reference and tested variant position are found covered in sufficiently high number of cells.\n",
    " \n",
    " \n",
    "#### Result variant subset sizes\n",
    "\n",
    "In this work, we thus use the different filter mentioned above, resulting in the following input data of different sizes:"
   ]
  },
  {
   "cell_type": "code",
   "execution_count": 7,
   "id": "f2d70523-6818-4bc3-b2ca-ccdfdaf049a7",
   "metadata": {},
   "outputs": [],
   "source": [
    "adata.layers[\"REF\"] = adata.layers[\"REF\"].A\n",
    "adata.layers[\"ALT\"] = adata.layers[\"ALT\"].A"
   ]
  },
  {
   "cell_type": "code",
   "execution_count": 11,
   "id": "6c67b83e-155c-4748-b650-1905f290fcff",
   "metadata": {},
   "outputs": [
    {
     "name": "stdout",
     "output_type": "stream",
     "text": [
      "Filter germline: True\t\tMin MAF: 2\n",
      "\tafter filtering object has: 168 variants.\n",
      "\n",
      "Filter germline: True\t\tMin MAF: 5\n",
      "\tafter filtering object has: 64 variants.\n",
      "\n",
      "Filter germline: True\t\tMin MAF: 10\n",
      "\tafter filtering object has: 11 variants.\n",
      "\n",
      "Filter germline: False\t\tMin MAF: 2\n",
      "\tafter filtering object has: 291 variants.\n",
      "\n",
      "Filter germline: False\t\tMin MAF: 5\n",
      "\tafter filtering object has: 120 variants.\n",
      "\n",
      "Filter germline: False\t\tMin MAF: 10\n",
      "\tafter filtering object has: 21 variants.\n",
      "\n"
     ]
    }
   ],
   "source": [
    "from passenger.preprocess.filter import filter_vars\n",
    "\n",
    "for filter_germline in [True, False]:\n",
    "    for min_MAF in 2, 5, 10:\n",
    "        adata_ = filter_vars(adata.copy(), filter_germline=filter_germline, min_MAF=min_MAF)\n",
    "        print(\"Filter germline: \"+str(filter_germline) + \"\\t\\tMin MAF: \"+str(min_MAF))\n",
    "        print(\"\\tafter filtering object has: \" + str(adata_.shape[1]) + \" variants.\")\n",
    "        print()"
   ]
  },
  {
   "cell_type": "markdown",
   "id": "743c85ae-b945-4fb3-a75f-7afb63087186",
   "metadata": {},
   "source": [
    "## II. Run wNMF\n",
    "\n",
    "We want to run the wNMF on each generate variant subset. The wNMF takes one main parameter as input: **k, the number of factors**. Ideally this parameter k should reflect the number of factors clearly identifyable from the data. Again, this is typically not known. Because of this here too, we run the wNMF with a range of k (2-3 in this example), and select the best k.\n",
    "\n",
    "Given this parameter, the wNMF can then be run with:"
   ]
  },
  {
   "cell_type": "code",
   "execution_count": 12,
   "id": "54af3e73-b98f-4519-9079-3ad5d1d057e7",
   "metadata": {},
   "outputs": [],
   "source": [
    "# bootstrap_wNMF(adata, k=k)"
   ]
  },
  {
   "cell_type": "markdown",
   "id": "42cfe4a3-4e26-4899-92a9-db65feda0b94",
   "metadata": {},
   "source": [
    "However, as this step is quite time consuming and can take a couple of hours, we recommend to run it for each variant subset as a separate job. The script to do variant filtering and run the wNMF can be found in ../scripts/run_wNMF.py\n",
    "\n",
    "For this notebook, we submitted 12 separate jobs to run the filtering and WNMF with following parameters:\n",
    "```\n",
    "python run_wNMF.py -d ../tutorials/A1/ -k 2 --min_MAF 2\n",
    "python run_wNMF.py -d ../tutorials/A1/ -k 2 --min_MAF 5\n",
    "python run_wNMF.py -d ../tutorials/A1/ -k 2 --min_MAF 10\n",
    "\n",
    "python run_wNMF.py -d ../tutorials/A1/ -k 2 --min_MAF 2 --keep_germline\n",
    "python run_wNMF.py -d ../tutorials/A1/ -k 2 --min_MAF 5 --keep_germline\n",
    "python run_wNMF.py -d ../tutorials/A1/ -k 2 --min_MAF 10 --keep_germline\n",
    "\n",
    "\n",
    "python run_wNMF.py -d ../tutorials/A1/ -k 3 --min_MAF 2\n",
    "python run_wNMF.py -d ../tutorials/A1/ -k 3 --min_MAF 5\n",
    "python run_wNMF.py -d ../tutorials/A1/ -k 3 --min_MAF 10\n",
    "\n",
    "python run_wNMF.py -d ../tutorials/A1/ -k 3 --min_MAF 2 --keep_germline\n",
    "python run_wNMF.py -d ../tutorials/A1/ -k 3 --min_MAF 5 --keep_germline\n",
    "python run_wNMF.py -d ../tutorials/A1/ -k 3 --min_MAF 10 --keep_germline\n",
    "\n",
    "```\n",
    "This gava us the 12 output files saved in ```A1/out*.h5ad```\n",
    "\n",
    "Now these 12 runs can have very different results. "
   ]
  },
  {
   "cell_type": "code",
   "execution_count": null,
   "id": "3ed7e96a-551a-4a8d-a25a-c16edf5e328a",
   "metadata": {},
   "outputs": [],
   "source": []
  }
 ],
 "metadata": {
  "kernelspec": {
   "display_name": "passenger",
   "language": "python",
   "name": "passenger"
  },
  "language_info": {
   "codemirror_mode": {
    "name": "ipython",
    "version": 3
   },
   "file_extension": ".py",
   "mimetype": "text/x-python",
   "name": "python",
   "nbconvert_exporter": "python",
   "pygments_lexer": "ipython3",
   "version": "3.10.9"
  }
 },
 "nbformat": 4,
 "nbformat_minor": 5
}
